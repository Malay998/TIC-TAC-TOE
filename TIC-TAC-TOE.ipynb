{
 "cells": [
  {
   "cell_type": "code",
   "execution_count": null,
   "metadata": {},
   "outputs": [],
   "source": [
    "# Example\n",
    "test_board = ['@','X','X','X','O','O','X','X','O','X','O']"
   ]
  },
  {
   "cell_type": "code",
   "execution_count": null,
   "metadata": {},
   "outputs": [],
   "source": [
    "def display_board(board):\n",
    "    # clearing the board everytime the player enters its input\n",
    "    from IPython.display import clear_output\n",
    "    clear_output()\n",
    "    \n",
    "    print( board[1] + \"   |   \" + board[2] + \"   |   \" + board[3] )\n",
    "    print(\"-\"*18)\n",
    "    print( board[4] + \"   |   \" + board[5] + \"   |   \" + board[6] )\n",
    "    print(\"-\"*18)\n",
    "    print( board[7] + \"   |   \" + board[8] + \"   |   \" + board[9] )\n",
    "    \n",
    "    "
   ]
  },
  {
   "cell_type": "code",
   "execution_count": null,
   "metadata": {},
   "outputs": [],
   "source": [
    "display_board(test_board)"
   ]
  },
  {
   "cell_type": "code",
   "execution_count": null,
   "metadata": {},
   "outputs": [],
   "source": [
    "def first_turn():\n",
    "    '''\n",
    "    DOCSTRING : function to choose who will play first\n",
    "    \n",
    "    '''\n",
    "    # importing random function to arandomely choose digits\n",
    "    import random\n",
    "    t = random.randint(0,1)\n",
    "    if t == 0:\n",
    "        return 'player1'\n",
    "    else:\n",
    "        return 'player2'"
   ]
  },
  {
   "cell_type": "code",
   "execution_count": null,
   "metadata": {},
   "outputs": [],
   "source": [
    "first_turn()"
   ]
  },
  {
   "cell_type": "code",
   "execution_count": null,
   "metadata": {},
   "outputs": [],
   "source": [
    "def player_marker(turn):\n",
    "    marker = 'invalid'\n",
    "    \n",
    "    # loop will run until a player enters corect option\n",
    "    while marker not in ['X','O']:\n",
    "        marker = input(f\"{turn}, please choose 'X' or 'O': \").upper()\n",
    "        if marker not in ['X','O']:\n",
    "            print(\"invalid option, Please enter again\")\n",
    "    \n",
    "    if turn == 'player1':\n",
    "        if marker == 'X':\n",
    "            return ('X','O')\n",
    "        else:\n",
    "            return ('O','X')\n",
    "    # player2 \n",
    "    else:\n",
    "        if marker == 'X':\n",
    "            return ('O','X')\n",
    "        else:\n",
    "            return ('X','O')"
   ]
  },
  {
   "cell_type": "code",
   "execution_count": null,
   "metadata": {},
   "outputs": [],
   "source": [
    "player_marker(first_turn())"
   ]
  },
  {
   "cell_type": "code",
   "execution_count": null,
   "metadata": {},
   "outputs": [],
   "source": []
  },
  {
   "cell_type": "code",
   "execution_count": null,
   "metadata": {},
   "outputs": [],
   "source": [
    "# check if player won a game\n",
    "def check_win(board, marker):\n",
    "        return (board[1] == board[2] == board[3] == marker or # 1st row\n",
    "               board[4] == board[5] == board[6] == marker or # 2nd row\n",
    "               board[7] == board[8] == board[9] == marker or # 3rd row\n",
    "               board[1] == board[4] == board[7] == marker or # 1st coloumn\n",
    "               board[2] == board[5] == board[8] == marker or # 2nd coloumn\n",
    "               board[3] == board[6] == board[9] == marker or # 3rd coloumn\n",
    "               board[1] == board[5] == board[9] == marker or board[3] == board[5] == board[7] == marker) # both diagonals)"
   ]
  },
  {
   "cell_type": "code",
   "execution_count": null,
   "metadata": {},
   "outputs": [],
   "source": [
    "check_win(test_board,'X')"
   ]
  },
  {
   "cell_type": "code",
   "execution_count": null,
   "metadata": {},
   "outputs": [],
   "source": [
    "def check_space(board,position):\n",
    "    '''\n",
    "    DOCSTRING: function to check if a position entered was  \n",
    "    '''\n",
    "    return board[position] == ' '"
   ]
  },
  {
   "cell_type": "code",
   "execution_count": null,
   "metadata": {},
   "outputs": [],
   "source": [
    "the_board = [' ']*10\n",
    "check_space(the_board,0)"
   ]
  },
  {
   "cell_type": "code",
   "execution_count": null,
   "metadata": {},
   "outputs": [],
   "source": [
    "\n",
    "def check_full_board_space(board):\n",
    "    '''\n",
    "    DOCSTRING: function to check the space on full board \n",
    "    '''\n",
    "    for i in range(1,10):\n",
    "        if check_space(board,i):\n",
    "            return False               \n",
    "    return True                      # if True no space is left, game is draw."
   ]
  },
  {
   "cell_type": "code",
   "execution_count": null,
   "metadata": {},
   "outputs": [],
   "source": [
    "check_full_board_space(test_board)"
   ]
  },
  {
   "cell_type": "code",
   "execution_count": null,
   "metadata": {},
   "outputs": [],
   "source": [
    "def player_choice(turn,board):\n",
    "    position = 0\n",
    "    \n",
    "    # it will keep asking player to enter their position until pos. not in a list or space is empty or ' ' \n",
    "    \n",
    "    while position not in [1,2,3,4,5,6,7,8,9] or not check_space(board,position):\n",
    "        position = int(input(f\"{turn}, Please enter the position(1-9): \"))\n",
    "        \n",
    "    return position"
   ]
  },
  {
   "cell_type": "code",
   "execution_count": null,
   "metadata": {},
   "outputs": [],
   "source": [
    "def placing_marker(board,position,marker):\n",
    "    board[position] = marker "
   ]
  },
  {
   "cell_type": "code",
   "execution_count": null,
   "metadata": {},
   "outputs": [],
   "source": [
    "placing_marker(test_board,4,'#')\n",
    "display_board(test_board)"
   ]
  },
  {
   "cell_type": "code",
   "execution_count": null,
   "metadata": {},
   "outputs": [],
   "source": [
    "def want_to_play():\n",
    "    start = 'invalid'\n",
    "    \n",
    "    while start not in ['Y','N']:\n",
    "        start = input(\"Are you ready to play. Enter Yes or No :\")[0].upper()\n",
    "        if start[0] not in['Y','N']:\n",
    "            print(\"invalid keyword\")\n",
    "    if start[0] == 'Y':\n",
    "        return True\n",
    "    else:\n",
    "        return False"
   ]
  },
  {
   "cell_type": "code",
   "execution_count": null,
   "metadata": {},
   "outputs": [],
   "source": [
    "def replay():\n",
    "    replay = 'invalid'\n",
    "    \n",
    "    while replay not in ['Y','N']:\n",
    "        replay = input(\"Do you want to play again? Enter Yes or No :\")[0].upper()\n",
    "        if replay[0] not in['Y','N']:\n",
    "            print(\"invalid keyword\")\n",
    "    if replay[0] == 'Y':\n",
    "        return True\n",
    "    else:\n",
    "        return False"
   ]
  },
  {
   "cell_type": "code",
   "execution_count": 1,
   "metadata": {},
   "outputs": [],
   "source": [
    "def relative():\n",
    "    print(\"This is the relative position to enter your markers\\n\\n\")\n",
    "    \n",
    "    print( '1' + \"   |   \" + '2' + \"   |   \" + '3' )\n",
    "    print(\"-\"*18)\n",
    "    print( '4' + \"   |   \" + '5' + \"   |   \" + '6' )\n",
    "    print(\"-\"*18)\n",
    "    print( '7' + \"   |   \" + '8' + \"   |   \" + '9' )"
   ]
  },
  {
   "cell_type": "code",
   "execution_count": null,
   "metadata": {},
   "outputs": [],
   "source": [
    "relative()"
   ]
  },
  {
   "cell_type": "code",
   "execution_count": null,
   "metadata": {},
   "outputs": [],
   "source": [
    "def main_game():\n",
    "    \n",
    "    print(\"WELCOME TO TIC-TAC-TOE\")\n",
    "    \n",
    "    # help for the player to indicate respective position\n",
    "    relative()\n",
    "    \n",
    "    # ask player to player to play ot not?\n",
    "    want_to_play()\n",
    "    \n",
    "    \n",
    "    while True:\n",
    "        \n",
    "        the_board = [' ']*10\n",
    "        display_board(the_board)\n",
    "        \n",
    "        turn = first_turn()\n",
    "        print(f\"{turn}, will play first\")\n",
    "        player1,player2 = player_marker(turn)\n",
    "        \n",
    "        game_on = True\n",
    "        \n",
    "        while game_on:\n",
    "            \n",
    "            if turn == 'player1':\n",
    "                display_board(the_board)\n",
    "                position = player_choice(turn,the_board)\n",
    "                placing_marker(the_board,position,player1)\n",
    "                \n",
    "                if check_win(the_board,player1):\n",
    "                    display_board(the_board)\n",
    "                    print(f\"Congratulations, {turn} won the match\")\n",
    "                    game_on = False\n",
    "                \n",
    "                else:\n",
    "                    if check_full_board_space(the_board):\n",
    "                        display_board(the_board)\n",
    "                        print(\"\\nThe game is draw\")\n",
    "                        game_on = False\n",
    "                        \n",
    "                    else:\n",
    "                        turn = 'player2'\n",
    "                        \n",
    "            else:\n",
    "                # player2's turn\n",
    "                display_board(the_board)\n",
    "                position = player_choice(turn,the_board)\n",
    "                placing_marker(the_board,position,player2)\n",
    "                \n",
    "                if check_win(the_board,player2):\n",
    "                    display_board(the_board)\n",
    "                    print(f\"Congratulations, {turn} won the match\")\n",
    "                    game_on = False\n",
    "                \n",
    "                else:\n",
    "                    if check_full_board_space(the_board):\n",
    "                        display_board(the_board)\n",
    "                        print(\"\\nThe game is draw\")\n",
    "                        game_on = False\n",
    "                        \n",
    "                    else:\n",
    "                        turn = 'player1'\n",
    "        \n",
    "        # asking player to play again or not? If True while loop will run inevitably.\n",
    "        # if False while loop will gonna break and the game will end \n",
    "        if not replay():\n",
    "            break"
   ]
  },
  {
   "cell_type": "code",
   "execution_count": null,
   "metadata": {},
   "outputs": [],
   "source": []
  },
  {
   "cell_type": "code",
   "execution_count": null,
   "metadata": {},
   "outputs": [],
   "source": []
  }
 ],
 "metadata": {
  "kernelspec": {
   "display_name": "Python 3",
   "language": "python",
   "name": "python3"
  },
  "language_info": {
   "codemirror_mode": {
    "name": "ipython",
    "version": 3
   },
   "file_extension": ".py",
   "mimetype": "text/x-python",
   "name": "python",
   "nbconvert_exporter": "python",
   "pygments_lexer": "ipython3",
   "version": "3.7.6"
  }
 },
 "nbformat": 4,
 "nbformat_minor": 4
}
